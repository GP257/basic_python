{
 "cells": [
  {
   "cell_type": "markdown",
   "metadata": {},
   "source": [
    "# Python Introduction\n",
    "\n",
    "This is a far from thorough introduction to Python but should give you enough information to finish the assignment. Python is an interpreted (rather than a compiled) language. What this means is that your code is read and interpreted at runtime instead of optimized beforehand. A  variable can be defined as any of the standard types (integers, floating point numbers, strings, and booleans)."
   ]
  },
  {
   "cell_type": "code",
   "execution_count": null,
   "metadata": {},
   "outputs": [],
   "source": [
    "a = 34 #integer\n",
    "b = 3.2 #floating point\n",
    "c = False #boolean\n",
    "d = \"this\" #string"
   ]
  },
  {
   "cell_type": "markdown",
   "metadata": {},
   "source": [
    "In Python indentation is important.  Blocks of code must all have the same level of indentation. For example, we can define a function \"alpha\" using the key word `def` that takes no arguments.  The function must be indented in from its declaration. \n"
   ]
  },
  {
   "cell_type": "code",
   "execution_count": null,
   "metadata": {},
   "outputs": [],
   "source": [
    "def alpha():\n",
    "    print(\"Hello world\")"
   ]
  },
  {
   "cell_type": "markdown",
   "metadata": {},
   "source": [
    "We can run a function by:"
   ]
  },
  {
   "cell_type": "code",
   "execution_count": null,
   "metadata": {},
   "outputs": [],
   "source": [
    "alpha()"
   ]
  },
  {
   "cell_type": "markdown",
   "metadata": {},
   "source": [
    "We can use other functions from modules using the `import` command.  Here is an example of an if/else clause based on importing the `math` module."
   ]
  },
  {
   "cell_type": "code",
   "execution_count": null,
   "metadata": {},
   "outputs": [],
   "source": [
    "import math\n",
    "\n",
    "def lessMorePi(num):\n",
    "    pi = math.atan(1.) * 4\n",
    "    if num < pi:\n",
    "        print(\"less than pi\")\n",
    "    else:\n",
    "        print(\"more than pi\")\n",
    "\n",
    "lessMorePi(3.14)\n",
    "lessMorePi(3.142)"
   ]
  },
  {
   "cell_type": "markdown",
   "metadata": {},
   "source": [
    "A variable that contains a list is declared using the `[]` syntax. We can then add elements to the list by using the `append` function."
   ]
  },
  {
   "cell_type": "code",
   "execution_count": null,
   "metadata": {},
   "outputs": [],
   "source": [
    "kids = []\n",
    "kids.append(\"Sammy\")\n",
    "kids.append(\"Sydney\")\n",
    "kids.append(\"Fiona\")\n",
    "print(kids)"
   ]
  },
  {
   "cell_type": "markdown",
   "metadata": {},
   "source": [
    "We can access individual members of a list by their index."
   ]
  },
  {
   "cell_type": "code",
   "execution_count": null,
   "metadata": {},
   "outputs": [],
   "source": [
    "print(kids[1])"
   ]
  },
  {
   "cell_type": "markdown",
   "metadata": {},
   "source": [
    "A slightly more complicated data structure is a dictionary. A dictionary, like a list, is a container, but its elements are not limited to being accessed through integer indexes. A list can be thought of as a (key, value) pair where each key must be an integer and the integers are in order 0...n-1, where n is the size of the list.\n",
    "Dictionaries are a more abstract container class where the keys can be of any type. A dictionary is declared using `{}`. Each key can be assigned to at most one value."
   ]
  },
  {
   "cell_type": "code",
   "execution_count": null,
   "metadata": {},
   "outputs": [],
   "source": [
    "goat = {}\n",
    "goat[\"football\"] = \"Jerry Rice\"\n",
    "goat[\"basketball\"] = \"Michael Jordan\"\n",
    "goat[\"hockey\"] = \"Wayne Gretzky\"\n",
    "print(goat)\n",
    "goat[\"football\"] = \"Tom Brady\"\n",
    "print(goat)"
   ]
  },
  {
   "cell_type": "markdown",
   "metadata": {},
   "source": [
    "All of the data types we have talked about are different types of Python objects/classes. Using Python classes is an example of object oriented (rather than funtional) programming.  We can declare our own classes using the `class` keyword. Classes are initialized using the `__init__` function.  Each function that accesses class members must use the `self` keyword."
   ]
  },
  {
   "cell_type": "code",
   "execution_count": null,
   "metadata": {},
   "outputs": [],
   "source": [
    "class cluster:\n",
    "    \"\"\"A class defining CEES clusters\"\"\"\n",
    "    def __init__(self, name, nodes, cores):\n",
    "        \"\"\"Initializer for the cluster class\n",
    "            name - name of cluster\n",
    "            nodes - number of nodes\n",
    "            cores - number of cores per node\"\"\"\n",
    "        self.name = name\n",
    "        self.nodes = nodes\n",
    "        self.cores = cores\n",
    "        \n",
    "    def numberOfCores(self):\n",
    "        \"\"\"Return number of cores\"\"\"\n",
    "        return self.cores * self.nodes\n",
    "    \n",
    "ceesClusters = {}\n",
    "ceesClusters[\"rcf\"] = cluster(\"rcf\", 170, 16)\n",
    "ceesClusters[\"cees\"] = cluster(\"cees\", 150, 24)\n",
    "ceesClusters[\"cees\"].numberOfCores()"
   ]
  },
  {
   "cell_type": "markdown",
   "metadata": {},
   "source": [
    "# Assignment: Parsing a log file\n",
    "\n",
    "In this section you will modify a working Python code to be more memory efficient.\n",
    "Currently the code reads in a log file of web requests, storing the access information in an array.\n",
    "Each element of the dictionary is referenced by its web address, and contains an array\n",
    "of all of the requests for the given web page. These requests are stored within the class\n",
    "structure page access. A keyword is then\n",
    "used to search the database of web pages. All pages that match the command line\n",
    "string are printed.\n"
   ]
  },
  {
   "cell_type": "markdown",
   "metadata": {},
   "source": [
    "The vanilla version of our code (that you will need to modify) is going to create a class called `webEntry` with an initializer and a print function."
   ]
  },
  {
   "cell_type": "code",
   "execution_count": null,
   "metadata": {},
   "outputs": [],
   "source": [
    "class webEntry:\n",
    "    \"\"\"Class for storing web entries\"\"\"\n",
    "\n",
    "    def __init__ (self, page, frm, date):\n",
    "        \"\"\"Initialize a webEntry object with page name, computer from which it was accessed, date accessed\"\"\"\n",
    "        self.page = page\n",
    "        self.frm = frm\n",
    "        self.date = date\n",
    "\n",
    "    def printIt(self):\n",
    "        print (\"Page:%s from=%s date=%s\"%(self.page, self.frm, self.date))"
   ]
  },
  {
   "cell_type": "markdown",
   "metadata": {},
   "source": [
    "Next we will define a function that loads a logfile. It reads in the file, looping though all the lines in the file. For each line of the file that matches a given pattern we add it to a list of web entries. The function returns the list of web entries."
   ]
  },
  {
   "cell_type": "code",
   "execution_count": null,
   "metadata": {},
   "outputs": [],
   "source": [
    "import re\n",
    "\n",
    "def buildTree(logFile):\n",
    "    \"\"\"Opens a logfile and builds a list containg all page entries\n",
    "        logFile - file to read\"\"\"\n",
    "    \n",
    "    parse = re.compile(\"^(\\S+) - - \\[(.+)\\] \\\"GET (\\S+)\") \n",
    "    array = []\n",
    "\n",
    "    with open(logFile) as f: \n",
    "        for line in f.readlines():\n",
    "            x = parse.search(line)\n",
    "            if x:\n",
    "                array.append(webEntry(x.group(3), x.group(1), x.group(2)))\n",
    "    return array"
   ]
  },
  {
   "cell_type": "markdown",
   "metadata": {},
   "source": [
    "This function searches each item in a list for a given search term. Any line that matches the search term is printed out."
   ]
  },
  {
   "cell_type": "code",
   "execution_count": null,
   "metadata": {},
   "outputs": [],
   "source": [
    "def searchList(database, searchTerm):\n",
    "    \"\"\"Search database for searchTerm and print it out\"\"\"\n",
    "\n",
    "    myRegEx = re.compile(searchTerm)\n",
    "    for item in database:\n",
    "        if myRegEx.search(item.page):\n",
    "            item.printIt()"
   ]
  },
  {
   "cell_type": "markdown",
   "metadata": {},
   "source": [
    "Let's download the logfile."
   ]
  },
  {
   "cell_type": "code",
   "execution_count": null,
   "metadata": {},
   "outputs": [],
   "source": [
    "!touch logFile; rm -rf logFile; wget http://sep.stanford.edu/sep/bob/download/logFile"
   ]
  },
  {
   "cell_type": "markdown",
   "metadata": {},
   "source": [
    "Now let's run our code."
   ]
  },
  {
   "cell_type": "code",
   "execution_count": null,
   "metadata": {},
   "outputs": [],
   "source": [
    "myList = buildTree(\"./logFile\")\n",
    "searchList(myList, \"biondo\")"
   ]
  },
  {
   "cell_type": "markdown",
   "metadata": {},
   "source": [
    "The memory requirements of using this approach can be significant. \n",
    "Each reference to each page is stored in memory. \n",
    "For large logfiles this often becomes cost-prohibitive. \n",
    "Your assignment is to modify the script so that only web addresses that fit the string that the user requests to search for are added to the dictionary.\n",
    "In addition we want you to organize the search results, so that all of the lines associated with a given web page are printed out together. \n"
   ]
  }
 ],
 "metadata": {
  "kernelspec": {
   "display_name": "Python 3",
   "language": "python",
   "name": "python3"
  },
  "language_info": {
   "codemirror_mode": {
    "name": "ipython",
    "version": 3
   },
   "file_extension": ".py",
   "mimetype": "text/x-python",
   "name": "python",
   "nbconvert_exporter": "python",
   "pygments_lexer": "ipython3",
   "version": "3.7.4"
  },
  "latex_envs": {
   "LaTeX_envs_menu_present": true,
   "autoclose": false,
   "autocomplete": true,
   "bibliofile": "biblio.bib",
   "cite_by": "apalike",
   "current_citInitial": 1,
   "eqLabelWithNumbers": true,
   "eqNumInitial": 1,
   "hotkeys": {
    "equation": "Ctrl-E",
    "itemize": "Ctrl-I"
   },
   "labels_anchors": false,
   "latex_user_defs": false,
   "report_style_numbering": false,
   "user_envs_cfg": false
  },
  "toc": {
   "base_numbering": 1,
   "nav_menu": {},
   "number_sections": true,
   "sideBar": true,
   "skip_h1_title": false,
   "title_cell": "Table of Contents",
   "title_sidebar": "Contents",
   "toc_cell": false,
   "toc_position": {},
   "toc_section_display": true,
   "toc_window_display": false
  }
 },
 "nbformat": 4,
 "nbformat_minor": 2
}
